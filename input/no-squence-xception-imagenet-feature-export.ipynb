{
 "cells": [
  {
   "cell_type": "code",
   "execution_count": 22,
   "metadata": {
    "collapsed": false
   },
   "outputs": [],
   "source": [
    "import numpy as np\n",
    "import progressbar \n",
    "import random \n",
    "import os\n",
    "import cv2\n",
    "import h5py\n",
    "import pandas as pd\n",
    "\n",
    "from sklearn.preprocessing import LabelEncoder\n",
    "from sklearn.preprocessing import LabelBinarizer\n",
    "\n",
    "import keras\n",
    "\n",
    "from keras.applications import imagenet_utils\n",
    "from keras.applications import Xception\n",
    "\n",
    "from keras.layers import Input\n",
    "from keras.layers import GlobalAveragePooling2D\n",
    "from keras.models import Model\n",
    "from keras.models import model_from_json\n",
    "from keras.preprocessing.image import img_to_array\n",
    "from keras.preprocessing.image import ImageDataGenerator\n",
    "from keras.preprocessing.sequence import pad_sequences\n",
    "\n",
    "import matplotlib.pyplot as plt\n",
    "%matplotlib inline\n",
    "\n",
    "from helpers import HDF5DatasetWriter\n",
    "from helpers import Utils"
   ]
  },
  {
   "cell_type": "code",
   "execution_count": 23,
   "metadata": {
    "collapsed": true
   },
   "outputs": [],
   "source": [
    "import tensorflow as tf\n",
    "config = tf.ConfigProto()\n",
    "config.gpu_options.allow_growth = True\n",
    "session = tf.Session(config=config)"
   ]
  },
  {
   "cell_type": "code",
   "execution_count": 24,
   "metadata": {
    "collapsed": true
   },
   "outputs": [],
   "source": [
    "root = 'datasets/UCF-101-frames-resize/'\n",
    "include = ['ApplyEyeMakeup', 'ApplyLipstick', 'Archery', 'BabyCrawling', \n",
    "           'BalanceBeam', 'BandMarching', 'BaseballPitch', 'Basketball',\n",
    "           'BasketballDunk', 'BenchPress', 'Biking', 'Billiards']"
   ]
  },
  {
   "cell_type": "code",
   "execution_count": 25,
   "metadata": {
    "collapsed": true
   },
   "outputs": [],
   "source": [
    "output_path = \"../input/datasets/UCF-101-hdf5/no-sequence-xception-imagenet-features.hdf5\""
   ]
  },
  {
   "cell_type": "code",
   "execution_count": 6,
   "metadata": {
    "collapsed": false
   },
   "outputs": [
    {
     "data": {
      "text/plain": [
       "['datasets/UCF-101-frames-resize/ApplyEyeMakeup',\n",
       " 'datasets/UCF-101-frames-resize/ApplyLipstick',\n",
       " 'datasets/UCF-101-frames-resize/Archery',\n",
       " 'datasets/UCF-101-frames-resize/BabyCrawling',\n",
       " 'datasets/UCF-101-frames-resize/BalanceBeam',\n",
       " 'datasets/UCF-101-frames-resize/BandMarching',\n",
       " 'datasets/UCF-101-frames-resize/BaseballPitch',\n",
       " 'datasets/UCF-101-frames-resize/Basketball',\n",
       " 'datasets/UCF-101-frames-resize/BasketballDunk',\n",
       " 'datasets/UCF-101-frames-resize/BenchPress',\n",
       " 'datasets/UCF-101-frames-resize/Biking',\n",
       " 'datasets/UCF-101-frames-resize/Billiards',\n",
       " 'datasets/UCF-101-frames-resize/BlowDryHair',\n",
       " 'datasets/UCF-101-frames-resize/BlowingCandles',\n",
       " 'datasets/UCF-101-frames-resize/BodyWeightSquats',\n",
       " 'datasets/UCF-101-frames-resize/Bowling',\n",
       " 'datasets/UCF-101-frames-resize/BoxingPunchingBag',\n",
       " 'datasets/UCF-101-frames-resize/BoxingSpeedBag',\n",
       " 'datasets/UCF-101-frames-resize/BreastStroke',\n",
       " 'datasets/UCF-101-frames-resize/BrushingTeeth',\n",
       " 'datasets/UCF-101-frames-resize/CleanAndJerk',\n",
       " 'datasets/UCF-101-frames-resize/CliffDiving',\n",
       " 'datasets/UCF-101-frames-resize/CricketBowling',\n",
       " 'datasets/UCF-101-frames-resize/CricketShot',\n",
       " 'datasets/UCF-101-frames-resize/CuttingInKitchen',\n",
       " 'datasets/UCF-101-frames-resize/Diving',\n",
       " 'datasets/UCF-101-frames-resize/Drumming',\n",
       " 'datasets/UCF-101-frames-resize/Fencing',\n",
       " 'datasets/UCF-101-frames-resize/FieldHockeyPenalty',\n",
       " 'datasets/UCF-101-frames-resize/FloorGymnastics',\n",
       " 'datasets/UCF-101-frames-resize/FrisbeeCatch',\n",
       " 'datasets/UCF-101-frames-resize/FrontCrawl',\n",
       " 'datasets/UCF-101-frames-resize/GolfSwing',\n",
       " 'datasets/UCF-101-frames-resize/Haircut',\n",
       " 'datasets/UCF-101-frames-resize/Hammering',\n",
       " 'datasets/UCF-101-frames-resize/HammerThrow',\n",
       " 'datasets/UCF-101-frames-resize/HandstandPushups',\n",
       " 'datasets/UCF-101-frames-resize/HandstandWalking',\n",
       " 'datasets/UCF-101-frames-resize/HeadMassage',\n",
       " 'datasets/UCF-101-frames-resize/HighJump',\n",
       " 'datasets/UCF-101-frames-resize/HorseRace',\n",
       " 'datasets/UCF-101-frames-resize/HorseRiding',\n",
       " 'datasets/UCF-101-frames-resize/HulaHoop',\n",
       " 'datasets/UCF-101-frames-resize/IceDancing',\n",
       " 'datasets/UCF-101-frames-resize/JavelinThrow',\n",
       " 'datasets/UCF-101-frames-resize/JugglingBalls',\n",
       " 'datasets/UCF-101-frames-resize/JumpingJack',\n",
       " 'datasets/UCF-101-frames-resize/JumpRope',\n",
       " 'datasets/UCF-101-frames-resize/Kayaking',\n",
       " 'datasets/UCF-101-frames-resize/Knitting']"
      ]
     },
     "execution_count": 6,
     "metadata": {},
     "output_type": "execute_result"
    }
   ],
   "source": [
    "full_categories = [x[0] for x in os.walk(root) if x[0]][1:]\n",
    "#categories = [c for c in full_categories if c in [os.path.join(root, e) for e in include]]\n",
    "categories = [c for c in full_categories[0:70]]\n",
    "categories"
   ]
  },
  {
   "cell_type": "code",
   "execution_count": 7,
   "metadata": {
    "collapsed": false
   },
   "outputs": [],
   "source": [
    "def get_image(img_path):\n",
    "    img = cv2.imread(img_path)\n",
    "    return img"
   ]
  },
  {
   "cell_type": "code",
   "execution_count": 8,
   "metadata": {
    "collapsed": false
   },
   "outputs": [],
   "source": [
    "data = []\n",
    "for c, category in enumerate(categories):\n",
    "    images = [os.path.join(dp, f) for dp, dn, filenames \n",
    "              in os.walk(category) for f in filenames \n",
    "              if os.path.splitext(f)[1].lower() in ['.jpg','.png','.jpeg']]\n",
    "    for img_path in images:\n",
    "        name = np.str(img_path.split('/')[2].split('_')[1]+img_path.split('/')[2].split('_')[2])\n",
    "        img= get_image(img_path)\n",
    "        data.append({'img':np.array(img), 'label': np.array([c, name])})"
   ]
  },
  {
   "cell_type": "code",
   "execution_count": 9,
   "metadata": {
    "collapsed": false
   },
   "outputs": [],
   "source": [
    "x, y= np.array([t[\"img\"] for t in data]), np.array([t[\"label\"] for t in data])"
   ]
  },
  {
   "cell_type": "code",
   "execution_count": 10,
   "metadata": {
    "collapsed": false
   },
   "outputs": [
    {
     "data": {
      "text/plain": [
       "array(['0', 'ApplyEyeMakeupg01'], \n",
       "      dtype='<U21')"
      ]
     },
     "execution_count": 10,
     "metadata": {},
     "output_type": "execute_result"
    }
   ],
   "source": [
    "y[0]"
   ]
  },
  {
   "cell_type": "code",
   "execution_count": 11,
   "metadata": {
    "collapsed": false
   },
   "outputs": [],
   "source": [
    "input_tensor = Input(shape=(data[0]['img'].shape))"
   ]
  },
  {
   "cell_type": "code",
   "execution_count": 12,
   "metadata": {
    "collapsed": true
   },
   "outputs": [],
   "source": [
    "cnn_model = Xception(weights='imagenet', include_top=False, input_tensor=input_tensor)\n",
    "for layer in cnn_model.layers:\n",
    "    layer.trainable = False"
   ]
  },
  {
   "cell_type": "code",
   "execution_count": 13,
   "metadata": {
    "collapsed": true
   },
   "outputs": [],
   "source": [
    "cnn_model_output = cnn_model.output\n",
    "cnn_bottleneck = GlobalAveragePooling2D()(cnn_model_output)\n",
    "cnn_bottleneck_model = Model(inputs=cnn_model.input, outputs=cnn_bottleneck)"
   ]
  },
  {
   "cell_type": "code",
   "execution_count": 14,
   "metadata": {
    "collapsed": false
   },
   "outputs": [],
   "source": [
    "#cnn_bottleneck_model.summary()"
   ]
  },
  {
   "cell_type": "code",
   "execution_count": 15,
   "metadata": {
    "collapsed": false
   },
   "outputs": [
    {
     "data": {
      "text/plain": [
       "(1, 2048)"
      ]
     },
     "execution_count": 15,
     "metadata": {},
     "output_type": "execute_result"
    }
   ],
   "source": [
    "image = get_image(\"datasets/UCF-101-frames-resize/ApplyEyeMakeup/v_ApplyEyeMakeup_g06_c04_3.jpg\")\n",
    "image = img_to_array(image)\n",
    "image = np.expand_dims(image, axis=0)\n",
    "features = cnn_bottleneck_model.predict(image)\n",
    "features.shape"
   ]
  },
  {
   "cell_type": "code",
   "execution_count": 16,
   "metadata": {
    "collapsed": true
   },
   "outputs": [],
   "source": [
    "def extract_feature(model, x, y, output_path, batch_size = 32, buffer_size = 1000):\n",
    "    dataset = HDF5DatasetWriter((x.shape[0], 2048), y.shape, output_path, bufSize = buffer_size)\n",
    "    \n",
    "    widgets = [\"Extracting Features: \", progressbar.Percentage(), \" \", progressbar.Bar(), \" \", progressbar.ETA()]\n",
    "    pbar = progressbar.ProgressBar(maxval=x.shape[0], widgets=widgets).start()\n",
    "\n",
    "    for i in np.arange(0, x.shape[0], batch_size):\n",
    "        batchData = x[i:i + batch_size]\n",
    "        batchLabels = y[i:i + batch_size]\n",
    "        batchImages = []\n",
    "        for (j, image) in enumerate(batchData):\n",
    "            image = img_to_array(image)\n",
    "            image = np.expand_dims(image, axis=0)\n",
    "            image = imagenet_utils.preprocess_input(image)\n",
    "            batchImages.append(image)\n",
    "        batchImages = np.vstack(batchImages)\n",
    "        features = model.predict(batchImages, batch_size=batch_size)\n",
    "        #features = features.reshape((features.shape[0], 8*10*256))\n",
    "        dataset.add(features, batchLabels)\n",
    "        pbar.update(i)\n",
    "    dataset.close()\n",
    "    pbar.finish()"
   ]
  },
  {
   "cell_type": "code",
   "execution_count": 17,
   "metadata": {
    "collapsed": false
   },
   "outputs": [
    {
     "name": "stderr",
     "output_type": "stream",
     "text": [
      "Extracting Features: 100% |#####################################| Time: 0:01:10\n"
     ]
    }
   ],
   "source": [
    "extract_feature(cnn_bottleneck_model, x, y, output_path, batch_size = 32, buffer_size = 1000)"
   ]
  },
  {
   "cell_type": "code",
   "execution_count": 18,
   "metadata": {
    "collapsed": false
   },
   "outputs": [],
   "source": [
    "db = h5py.File(output_path)\n",
    "\n",
    "x = db[\"images\"][:]\n",
    "y = db[\"labels\"][:]"
   ]
  },
  {
   "cell_type": "code",
   "execution_count": 19,
   "metadata": {
    "collapsed": false
   },
   "outputs": [
    {
     "data": {
      "text/plain": [
       "(66376, 2048)"
      ]
     },
     "execution_count": 19,
     "metadata": {},
     "output_type": "execute_result"
    }
   ],
   "source": [
    "x.shape"
   ]
  },
  {
   "cell_type": "code",
   "execution_count": 20,
   "metadata": {
    "collapsed": false
   },
   "outputs": [
    {
     "data": {
      "text/plain": [
       "(66376, 2)"
      ]
     },
     "execution_count": 20,
     "metadata": {},
     "output_type": "execute_result"
    }
   ],
   "source": [
    "y.shape"
   ]
  },
  {
   "cell_type": "code",
   "execution_count": 21,
   "metadata": {
    "collapsed": false
   },
   "outputs": [
    {
     "data": {
      "text/plain": [
       "array(['0', 'ApplyEyeMakeupg01'], dtype=object)"
      ]
     },
     "execution_count": 21,
     "metadata": {},
     "output_type": "execute_result"
    }
   ],
   "source": [
    "y[0]"
   ]
  },
  {
   "cell_type": "code",
   "execution_count": null,
   "metadata": {
    "collapsed": true
   },
   "outputs": [],
   "source": []
  },
  {
   "cell_type": "code",
   "execution_count": null,
   "metadata": {
    "collapsed": true
   },
   "outputs": [],
   "source": []
  }
 ],
 "metadata": {
  "anaconda-cloud": {},
  "kernelspec": {
   "display_name": "Python [default]",
   "language": "python",
   "name": "python3"
  },
  "language_info": {
   "codemirror_mode": {
    "name": "ipython",
    "version": 3
   },
   "file_extension": ".py",
   "mimetype": "text/x-python",
   "name": "python",
   "nbconvert_exporter": "python",
   "pygments_lexer": "ipython3",
   "version": "3.5.2"
  }
 },
 "nbformat": 4,
 "nbformat_minor": 1
}
