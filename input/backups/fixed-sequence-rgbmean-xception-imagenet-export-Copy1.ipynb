{
 "cells": [
  {
   "cell_type": "code",
   "execution_count": 1,
   "metadata": {
    "collapsed": false
   },
   "outputs": [
    {
     "name": "stderr",
     "output_type": "stream",
     "text": [
      "Using TensorFlow backend.\n"
     ]
    }
   ],
   "source": [
    "import numpy as np\n",
    "import progressbar \n",
    "import random \n",
    "import os\n",
    "import cv2\n",
    "import h5py\n",
    "\n",
    "from sklearn.preprocessing import LabelEncoder\n",
    "from sklearn.preprocessing import LabelBinarizer\n",
    "\n",
    "import keras\n",
    "from keras.applications import imagenet_utils\n",
    "from keras.applications import Xception\n",
    "from keras.layers import Input\n",
    "from keras.layers import GlobalAveragePooling2D\n",
    "from keras.preprocessing.image import img_to_array\n",
    "from keras.preprocessing.sequence import pad_sequences\n",
    "from keras.models import Model, model_from_json\n",
    "\n",
    "import matplotlib.pyplot as plt\n",
    "%matplotlib inline\n",
    "\n",
    "from helpers import HDF5DatasetWriter\n",
    "from helpers import Utils"
   ]
  },
  {
   "cell_type": "code",
   "execution_count": 2,
   "metadata": {
    "collapsed": true
   },
   "outputs": [],
   "source": [
    "output_path = \"datasets/UCF-101-hdf5/fixed-sequance-rgbmean-xception-imagenet-feature.hdf5\""
   ]
  },
  {
   "cell_type": "code",
   "execution_count": 3,
   "metadata": {
    "collapsed": false
   },
   "outputs": [],
   "source": [
    "db = h5py.File(\"datasets/UCF-101-hdf5/fixed-sequance-rgbmean.hdf5\")\n",
    "\n",
    "x = db[\"images\"][:]\n",
    "y = db[\"labels\"][:]"
   ]
  },
  {
   "cell_type": "code",
   "execution_count": 4,
   "metadata": {
    "collapsed": false
   },
   "outputs": [
    {
     "data": {
      "text/plain": [
       "8"
      ]
     },
     "execution_count": 4,
     "metadata": {},
     "output_type": "execute_result"
    }
   ],
   "source": [
    "num_classes = y.shape[1]\n",
    "num_classes"
   ]
  },
  {
   "cell_type": "code",
   "execution_count": 5,
   "metadata": {
    "collapsed": false
   },
   "outputs": [],
   "source": [
    "x = pad_sequences(x, maxlen=20, truncating=\"post\")\n",
    "\n",
    "lb = LabelBinarizer()\n",
    "y = lb.fit_transform(y)"
   ]
  },
  {
   "cell_type": "code",
   "execution_count": 6,
   "metadata": {
    "collapsed": false
   },
   "outputs": [
    {
     "data": {
      "text/plain": [
       "(200, 20, 60, 80, 3)"
      ]
     },
     "execution_count": 6,
     "metadata": {},
     "output_type": "execute_result"
    }
   ],
   "source": [
    "x.shape"
   ]
  },
  {
   "cell_type": "code",
   "execution_count": 7,
   "metadata": {
    "collapsed": false
   },
   "outputs": [],
   "source": [
    "input_tensor = Input(shape=(60, 80, 3))\n",
    "cnn_model = Xception(weights='imagenet', include_top=False, input_tensor=input_tensor)\n",
    "for layer in cnn_model.layers:\n",
    "    layer.trainable = False\n",
    "cnn_model_output = cnn_model.output\n",
    "cnn_bottleneck = GlobalAveragePooling2D()(cnn_model_output)\n",
    "cnn_bottleneck_model = Model(inputs=cnn_model.input, outputs=cnn_bottleneck)"
   ]
  },
  {
   "cell_type": "code",
   "execution_count": null,
   "metadata": {
    "collapsed": false
   },
   "outputs": [],
   "source": [
    "image = x[0][1]\n",
    "image = np.expand_dims(image, axis=0)"
   ]
  },
  {
   "cell_type": "code",
   "execution_count": null,
   "metadata": {
    "collapsed": false
   },
   "outputs": [],
   "source": [
    "features = cnn_bottleneck_model.predict(image)"
   ]
  },
  {
   "cell_type": "code",
   "execution_count": null,
   "metadata": {
    "collapsed": false
   },
   "outputs": [],
   "source": [
    "sequences = []\n",
    "for (j, sequence) in enumerate(x[0:4]):\n",
    "    print(sequence.shape)\n",
    "    "
   ]
  },
  {
   "cell_type": "code",
   "execution_count": null,
   "metadata": {
    "collapsed": false
   },
   "outputs": [],
   "source": [
    "sequences = np.array(sequences)\n",
    "sequences.shape"
   ]
  },
  {
   "cell_type": "code",
   "execution_count": null,
   "metadata": {
    "collapsed": false
   },
   "outputs": [],
   "source": [
    "batch_size=4\n",
    "sequences = []\n",
    "for i in np.arange(0, x.shape[0], batch_size):\n",
    "    batchData = x[i:i + batch_size]\n",
    "    batchLabels = y[i:i + batch_size]\n",
    "    for (j, sequence) in enumerate(batchData):\n",
    "        print(j)\n",
    "        images = []\n",
    "        for k, image in enumerate(sequence):\n",
    "            image = np.expand_dims(image, axis=0)\n",
    "            features = cnn_bottleneck_model.predict(image)\n",
    "            images.append(features)\n",
    "        sequences.append(images)"
   ]
  },
  {
   "cell_type": "code",
   "execution_count": null,
   "metadata": {
    "collapsed": true
   },
   "outputs": [],
   "source": []
  },
  {
   "cell_type": "code",
   "execution_count": null,
   "metadata": {
    "collapsed": true
   },
   "outputs": [],
   "source": [
    "def extract_feature_data(model, x, y, output_path, batch_size = 32, buffer_size = 1000):\n",
    "    dataset = HDF5DatasetWriter((x.shape[0], 2048), y.shape, output_path, bufSize = buffer_size)\n",
    "    \n",
    "    widgets = [\"Extracting Features: \", progressbar.Percentage(), \" \", progressbar.Bar(), \" \", progressbar.ETA()]\n",
    "    pbar = progressbar.ProgressBar(maxval=x.shape[0], widgets=widgets).start()\n",
    "    \n",
    "    sequences = []\n",
    "    for i, sequence in enumerate(x):\n",
    "        images = []\n",
    "        for j, image in enumerate(sequence):\n",
    "            image = np.expand_dims(image, axis=0)\n",
    "            features = model.predict(image)\n",
    "            images.append(features)\n",
    "        sequences.append(images)\n",
    "        pbar.update(i)\n",
    "    dataset.add(sequences, y)\n",
    "    dataset.close()\n",
    "    pbar.finish()"
   ]
  },
  {
   "cell_type": "code",
   "execution_count": null,
   "metadata": {
    "collapsed": false
   },
   "outputs": [],
   "source": [
    "extract_feature_data(cnn_bottleneck_model, x, y, output_path, 500)"
   ]
  },
  {
   "cell_type": "code",
   "execution_count": null,
   "metadata": {
    "collapsed": true
   },
   "outputs": [],
   "source": [
    "import h5py"
   ]
  },
  {
   "cell_type": "code",
   "execution_count": null,
   "metadata": {
    "collapsed": false
   },
   "outputs": [],
   "source": [
    "db = h5py.File(output_path)\n",
    "\n",
    "x = db[\"images\"][:]\n",
    "y = db[\"labels\"][:]"
   ]
  },
  {
   "cell_type": "code",
   "execution_count": null,
   "metadata": {
    "collapsed": false
   },
   "outputs": [],
   "source": [
    "x.shape"
   ]
  },
  {
   "cell_type": "code",
   "execution_count": null,
   "metadata": {
    "collapsed": false
   },
   "outputs": [],
   "source": [
    "y.shape"
   ]
  },
  {
   "cell_type": "code",
   "execution_count": null,
   "metadata": {
    "collapsed": true
   },
   "outputs": [],
   "source": []
  }
 ],
 "metadata": {
  "anaconda-cloud": {},
  "kernelspec": {
   "display_name": "Python [default]",
   "language": "python",
   "name": "python3"
  },
  "language_info": {
   "codemirror_mode": {
    "name": "ipython",
    "version": 3
   },
   "file_extension": ".py",
   "mimetype": "text/x-python",
   "name": "python",
   "nbconvert_exporter": "python",
   "pygments_lexer": "ipython3",
   "version": "3.5.2"
  }
 },
 "nbformat": 4,
 "nbformat_minor": 1
}
