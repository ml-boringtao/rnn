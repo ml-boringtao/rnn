{
 "cells": [
  {
   "cell_type": "code",
   "execution_count": 1,
   "metadata": {
    "collapsed": false
   },
   "outputs": [
    {
     "name": "stderr",
     "output_type": "stream",
     "text": [
      "Using TensorFlow backend.\n"
     ]
    }
   ],
   "source": [
    "import numpy as np\n",
    "import progressbar \n",
    "import random \n",
    "import os\n",
    "import cv2\n",
    "\n",
    "from sklearn.preprocessing import LabelEncoder\n",
    "from sklearn.preprocessing import LabelBinarizer\n",
    "\n",
    "import keras\n",
    "from keras.applications import imagenet_utils\n",
    "from keras.preprocessing.image import img_to_array\n",
    "from keras.preprocessing.sequence import pad_sequences\n",
    "\n",
    "import matplotlib.pyplot as plt\n",
    "%matplotlib inline\n",
    "\n",
    "from helpers import HDF5DatasetWriter\n",
    "from helpers import Utils"
   ]
  },
  {
   "cell_type": "code",
   "execution_count": 25,
   "metadata": {
    "collapsed": true
   },
   "outputs": [],
   "source": [
    "output_path = \"datasets/UCF-101-hdf5/fixed-sequence.hdf5\""
   ]
  },
  {
   "cell_type": "code",
   "execution_count": 3,
   "metadata": {
    "collapsed": true
   },
   "outputs": [],
   "source": [
    "root = 'datasets/UCF-101-frames-resize/'\n",
    "include = ['ApplyEyeMakeup', 'ApplyLipstick', 'Archery', 'BabyCrawling', \n",
    "           'BalanceBeam', 'BandMarching', 'BaseballPitch', 'Basketball']"
   ]
  },
  {
   "cell_type": "code",
   "execution_count": 4,
   "metadata": {
    "collapsed": false
   },
   "outputs": [],
   "source": [
    "full_categories = [x[0] for x in os.walk(root) if x[0]][1:]\n",
    "categories = [c for c in full_categories if c in [os.path.join(root, e) for e in include]]"
   ]
  },
  {
   "cell_type": "code",
   "execution_count": 5,
   "metadata": {
    "collapsed": false
   },
   "outputs": [
    {
     "data": {
      "text/plain": [
       "['datasets/UCF-101-frames-resize/ApplyEyeMakeup',\n",
       " 'datasets/UCF-101-frames-resize/ApplyLipstick',\n",
       " 'datasets/UCF-101-frames-resize/Archery',\n",
       " 'datasets/UCF-101-frames-resize/BabyCrawling',\n",
       " 'datasets/UCF-101-frames-resize/BalanceBeam',\n",
       " 'datasets/UCF-101-frames-resize/BandMarching',\n",
       " 'datasets/UCF-101-frames-resize/BaseballPitch',\n",
       " 'datasets/UCF-101-frames-resize/Basketball']"
      ]
     },
     "execution_count": 5,
     "metadata": {},
     "output_type": "execute_result"
    }
   ],
   "source": [
    "categories"
   ]
  },
  {
   "cell_type": "code",
   "execution_count": 6,
   "metadata": {
    "collapsed": true
   },
   "outputs": [],
   "source": [
    "def get_image(img_path):\n",
    "    img = cv2.imread(img_path)\n",
    "    return img"
   ]
  },
  {
   "cell_type": "code",
   "execution_count": 7,
   "metadata": {
    "collapsed": false
   },
   "outputs": [],
   "source": [
    "img = get_image(\"datasets/UCF-101-frames-resize/ApplyEyeMakeup/v_ApplyEyeMakeup_g06_c04_3.jpg\")"
   ]
  },
  {
   "cell_type": "code",
   "execution_count": 9,
   "metadata": {
    "collapsed": false
   },
   "outputs": [
    {
     "data": {
      "text/plain": [
       "(60, 80, 3)"
      ]
     },
     "execution_count": 9,
     "metadata": {},
     "output_type": "execute_result"
    }
   ],
   "source": [
    "img.shape"
   ]
  },
  {
   "cell_type": "code",
   "execution_count": 17,
   "metadata": {
    "collapsed": false
   },
   "outputs": [],
   "source": [
    "data = []\n",
    "for c, category in enumerate(categories):\n",
    "    images = [os.path.join(dp, f) for dp, dn, filenames \n",
    "              in os.walk(category) for f in filenames \n",
    "              if os.path.splitext(f)[1].lower() in ['.jpg','.png','.jpeg']]\n",
    "    \n",
    "    current_squence_name = []\n",
    "    next_squence_name = images[0].split('/')[2].split('_')[1:3]\n",
    "    img_sequence = []\n",
    "    img_count = 0\n",
    "    img_max = 0\n",
    "    img_min = 60\n",
    "    \n",
    "    for img_path in images:\n",
    "        squence_name = img_path.split('/')[2].split('_')[1:3]\n",
    "        current_squence_name = squence_name\n",
    "        \n",
    "        if current_squence_name == next_squence_name:\n",
    "            img = get_image(img_path)\n",
    "            img_count = img_count + 1\n",
    "            if img_count <= 30:\n",
    "                img_sequence.append(img)\n",
    "        else:\n",
    "            next_squence_name = current_squence_name\n",
    "            data.append({'imgs':np.array(img_sequence), 'label':c})\n",
    "            img_sequence = []\n",
    "            if img_count < img_min:\n",
    "                img_min = img_count\n",
    "            if img_count > img_max:\n",
    "                img_max = img_count\n",
    "            img_count = 0\n",
    "    data.append({'imgs':np.array(img_sequence), 'label':c})"
   ]
  },
  {
   "cell_type": "code",
   "execution_count": 18,
   "metadata": {
    "collapsed": false
   },
   "outputs": [
    {
     "name": "stdout",
     "output_type": "stream",
     "text": [
      "38 69\n"
     ]
    }
   ],
   "source": [
    "print(img_min, img_max)"
   ]
  },
  {
   "cell_type": "code",
   "execution_count": 19,
   "metadata": {
    "collapsed": false
   },
   "outputs": [
    {
     "data": {
      "text/plain": [
       "(30, 60, 80, 3)"
      ]
     },
     "execution_count": 19,
     "metadata": {},
     "output_type": "execute_result"
    }
   ],
   "source": [
    "data = np.array(data)\n",
    "data[4]['imgs'].shape"
   ]
  },
  {
   "cell_type": "code",
   "execution_count": 21,
   "metadata": {
    "collapsed": false
   },
   "outputs": [],
   "source": [
    "x, y = np.array([t[\"imgs\"] for t in data]), [t[\"label\"] for t in data]\n",
    "\n",
    "lb = LabelBinarizer()\n",
    "y = lb.fit_transform(y)"
   ]
  },
  {
   "cell_type": "code",
   "execution_count": 27,
   "metadata": {
    "collapsed": false
   },
   "outputs": [],
   "source": [
    "def export_data(x, y, output_path, batch_size, buffer_size):\n",
    "    dataset = HDF5DatasetWriter(x.shape, y.shape, output_path, bufSize = buffer_size)\n",
    "    \n",
    "    widgets = [\"Exporting Data: \", progressbar.Percentage(), \" \", progressbar.Bar(), \" \", progressbar.ETA()]\n",
    "    pbar = progressbar.ProgressBar(maxval=x.shape[0], widgets=widgets).start()\n",
    "    \n",
    "    for i in np.arange(0, x.shape[0], batch_size):\n",
    "        batchData = x[i:i + batch_size]\n",
    "        batchLabels = y[i:i + batch_size]\n",
    "        dataset.add(batchData, batchLabels)\n",
    "        pbar.update(i)\n",
    "    dataset.close()\n",
    "    pbar.finish()"
   ]
  },
  {
   "cell_type": "code",
   "execution_count": 28,
   "metadata": {
    "collapsed": false
   },
   "outputs": [
    {
     "name": "stderr",
     "output_type": "stream",
     "text": [
      "Exporting Data: 100% |##########################################| Time: 0:00:00\n"
     ]
    }
   ],
   "source": [
    "export_data(x, y, output_path, 32, 1000)"
   ]
  },
  {
   "cell_type": "code",
   "execution_count": null,
   "metadata": {
    "collapsed": true
   },
   "outputs": [],
   "source": []
  }
 ],
 "metadata": {
  "anaconda-cloud": {},
  "kernelspec": {
   "display_name": "Python [default]",
   "language": "python",
   "name": "python3"
  },
  "language_info": {
   "codemirror_mode": {
    "name": "ipython",
    "version": 3
   },
   "file_extension": ".py",
   "mimetype": "text/x-python",
   "name": "python",
   "nbconvert_exporter": "python",
   "pygments_lexer": "ipython3",
   "version": "3.5.2"
  }
 },
 "nbformat": 4,
 "nbformat_minor": 1
}
