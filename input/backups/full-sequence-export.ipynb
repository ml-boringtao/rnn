{
 "cells": [
  {
   "cell_type": "code",
   "execution_count": 1,
   "metadata": {
    "collapsed": false
   },
   "outputs": [
    {
     "name": "stderr",
     "output_type": "stream",
     "text": [
      "Using TensorFlow backend.\n"
     ]
    }
   ],
   "source": [
    "import numpy as np\n",
    "import progressbar \n",
    "import random \n",
    "import os\n",
    "import cv2\n",
    "\n",
    "from sklearn.preprocessing import LabelEncoder\n",
    "from sklearn.preprocessing import LabelBinarizer\n",
    "\n",
    "import keras\n",
    "from keras.applications import imagenet_utils\n",
    "from keras.preprocessing.image import img_to_array\n",
    "from keras.preprocessing.sequence import pad_sequences\n",
    "from keras.models import Model, model_from_json\n",
    "\n",
    "import matplotlib.pyplot as plt\n",
    "%matplotlib inline\n",
    "\n",
    "from helpers import HDF5DatasetWriter\n",
    "from helpers import Utils"
   ]
  },
  {
   "cell_type": "code",
   "execution_count": 2,
   "metadata": {
    "collapsed": true
   },
   "outputs": [],
   "source": [
    "root = 'datasets/UCF-101-frames-resize/'\n",
    "include = ['ApplyEyeMakeup', 'ApplyLipstick', 'Archery', 'BabyCrawling', \n",
    "           'BalanceBeam', 'BandMarching', 'BaseballPitch', 'Basketball']"
   ]
  },
  {
   "cell_type": "code",
   "execution_count": 3,
   "metadata": {
    "collapsed": false
   },
   "outputs": [],
   "source": [
    "full_categories = [x[0] for x in os.walk(root) if x[0]][1:]\n",
    "categories = [c for c in full_categories if c in [os.path.join(root, e) for e in include]]"
   ]
  },
  {
   "cell_type": "code",
   "execution_count": 4,
   "metadata": {
    "collapsed": false
   },
   "outputs": [
    {
     "data": {
      "text/plain": [
       "['datasets/UCF-101-frames-resize/ApplyEyeMakeup',\n",
       " 'datasets/UCF-101-frames-resize/ApplyLipstick',\n",
       " 'datasets/UCF-101-frames-resize/Archery',\n",
       " 'datasets/UCF-101-frames-resize/BabyCrawling',\n",
       " 'datasets/UCF-101-frames-resize/BalanceBeam',\n",
       " 'datasets/UCF-101-frames-resize/BandMarching',\n",
       " 'datasets/UCF-101-frames-resize/BaseballPitch',\n",
       " 'datasets/UCF-101-frames-resize/Basketball']"
      ]
     },
     "execution_count": 4,
     "metadata": {},
     "output_type": "execute_result"
    }
   ],
   "source": [
    "categories"
   ]
  },
  {
   "cell_type": "code",
   "execution_count": 5,
   "metadata": {
    "collapsed": true
   },
   "outputs": [],
   "source": [
    "def get_image(img_path):\n",
    "    img = cv2.imread(img_path)\n",
    "    return img"
   ]
  },
  {
   "cell_type": "code",
   "execution_count": 6,
   "metadata": {
    "collapsed": false
   },
   "outputs": [],
   "source": [
    "img = get_image(\"datasets/UCF-101-frames-resize/ApplyEyeMakeup/v_ApplyEyeMakeup_g06_c04_3.jpg\")"
   ]
  },
  {
   "cell_type": "code",
   "execution_count": 7,
   "metadata": {
    "collapsed": false
   },
   "outputs": [
    {
     "data": {
      "text/plain": [
       "(60, 80, 3)"
      ]
     },
     "execution_count": 7,
     "metadata": {},
     "output_type": "execute_result"
    }
   ],
   "source": [
    "img.shape"
   ]
  },
  {
   "cell_type": "code",
   "execution_count": 8,
   "metadata": {
    "collapsed": true
   },
   "outputs": [],
   "source": [
    "import pickle\n",
    "rgbmean = pickle.load(open('../input/datasets/UCF-101-hdf5/rgbmean.pkl', 'rb'))"
   ]
  },
  {
   "cell_type": "code",
   "execution_count": 9,
   "metadata": {
    "collapsed": false
   },
   "outputs": [],
   "source": [
    "json_file = open('../output/saved/ucf101_model_xception_99.43.json', 'r')\n",
    "transfer_model_json = json_file.read()\n",
    "json_file.close()\n",
    "transfer_model = model_from_json(transfer_model_json)\n",
    "transfer_model.load_weights(\"../output/saved/ucf101_weight_xception_99.43.hdf5\")"
   ]
  },
  {
   "cell_type": "code",
   "execution_count": 10,
   "metadata": {
    "collapsed": true
   },
   "outputs": [],
   "source": [
    "model = Model(inputs=transfer_model.input, \n",
    "              outputs=transfer_model.get_layer('batch_normalization_36').output)"
   ]
  },
  {
   "cell_type": "code",
   "execution_count": 11,
   "metadata": {
    "collapsed": false
   },
   "outputs": [],
   "source": [
    "data = []\n",
    "for c, category in enumerate(categories):\n",
    "    images = [os.path.join(dp, f) for dp, dn, filenames \n",
    "              in os.walk(category) for f in filenames \n",
    "              if os.path.splitext(f)[1].lower() in ['.jpg','.png','.jpeg']]\n",
    "    \n",
    "    current_squence_name = []\n",
    "    next_squence_name = images[0].split('/')[2].split('_')[1:3]\n",
    "    img_sequence = []\n",
    "    \n",
    "    for img_path in images:\n",
    "        squence_name = img_path.split('/')[2].split('_')[1:3]\n",
    "        current_squence_name = squence_name\n",
    "        \n",
    "        if current_squence_name == next_squence_name:\n",
    "            img = get_image(img_path)\n",
    "            (B, G, R) = cv2.split(img.astype(\"float32\"))\n",
    "            R -= rgbmean[\"R\"]\n",
    "            G -= rgbmean[\"G\"]\n",
    "            B -= rgbmean[\"B\"]\n",
    "            img = cv2.merge([B, G, R])\n",
    "            img = img_to_array(img)\n",
    "            img = imagenet_utils.preprocess_input(img)\n",
    "            img_sequence.append(img)\n",
    "        else:\n",
    "            next_squence_name = current_squence_name\n",
    "            data.append({'imgs':np.array(img_sequence), 'label':c})\n",
    "            img_sequence = []\n",
    "    data.append({'imgs':np.array(img_sequence), 'label':c})"
   ]
  },
  {
   "cell_type": "code",
   "execution_count": 12,
   "metadata": {
    "collapsed": false
   },
   "outputs": [
    {
     "data": {
      "text/plain": [
       "(39, 60, 80, 3)"
      ]
     },
     "execution_count": 12,
     "metadata": {},
     "output_type": "execute_result"
    }
   ],
   "source": [
    "data = np.array(data)\n",
    "data[37]['imgs'].shape"
   ]
  },
  {
   "cell_type": "code",
   "execution_count": 13,
   "metadata": {
    "collapsed": false
   },
   "outputs": [
    {
     "data": {
      "image/png": "[encoded data removed]",
      "text/plain": [
       "<matplotlib.figure.Figure at 0x2212452c3c8>"
      ]
     },
     "metadata": {},
     "output_type": "display_data"
    }
   ],
   "source": [
    "plt.imshow(data[35]['imgs'][0])\n",
    "plt.show()"
   ]
  },
  {
   "cell_type": "code",
   "execution_count": 14,
   "metadata": {
    "collapsed": false
   },
   "outputs": [],
   "source": [
    "import pickle\n",
    "pickle.dump(data, open('datasets/UCF-101-hdf5/full_sequence_rgbmean.pkl', 'wb'))\n",
    "#full_sequence = pickle.load(open('datasets/UCF-101-hdf5/full_sequence', 'rb'))"
   ]
  },
  {
   "cell_type": "code",
   "execution_count": null,
   "metadata": {
    "collapsed": true
   },
   "outputs": [],
   "source": []
  }
 ],
 "metadata": {
  "anaconda-cloud": {},
  "kernelspec": {
   "display_name": "Python [default]",
   "language": "python",
   "name": "python3"
  },
  "language_info": {
   "codemirror_mode": {
    "name": "ipython",
    "version": 3
   },
   "file_extension": ".py",
   "mimetype": "text/x-python",
   "name": "python",
   "nbconvert_exporter": "python",
   "pygments_lexer": "ipython3",
   "version": "3.5.2"
  }
 },
 "nbformat": 4,
 "nbformat_minor": 1
}
