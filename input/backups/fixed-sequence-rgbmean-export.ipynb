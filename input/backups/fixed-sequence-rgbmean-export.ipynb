{
 "cells": [
  {
   "cell_type": "code",
   "execution_count": 9,
   "metadata": {
    "collapsed": false
   },
   "outputs": [],
   "source": [
    "import numpy as np\n",
    "import progressbar \n",
    "import random \n",
    "import os\n",
    "import cv2\n",
    "\n",
    "from sklearn.preprocessing import LabelEncoder\n",
    "from sklearn.preprocessing import LabelBinarizer\n",
    "\n",
    "import keras\n",
    "from keras.applications import imagenet_utils\n",
    "from keras.preprocessing.image import img_to_array\n",
    "from keras.preprocessing.sequence import pad_sequences\n",
    "\n",
    "import matplotlib.pyplot as plt\n",
    "%matplotlib inline\n",
    "\n",
    "from helpers import HDF5DatasetWriter\n",
    "from helpers import Utils"
   ]
  },
  {
   "cell_type": "code",
   "execution_count": 18,
   "metadata": {
    "collapsed": true
   },
   "outputs": [],
   "source": [
    "output_path = \"datasets/UCF-101-hdf5/fixed-sequance-rgbmean.hdf5\""
   ]
  },
  {
   "cell_type": "code",
   "execution_count": 15,
   "metadata": {
    "collapsed": false
   },
   "outputs": [],
   "source": [
    "import pickle\n",
    "data = pickle.load(open('../input/datasets/UCF-101-hdf5/full_sequence.pkl', 'rb'))\n",
    "rgbmean = pickle.load(open('../input/datasets/UCF-101-hdf5/rgbmean.pkl', 'rb'))"
   ]
  },
  {
   "cell_type": "code",
   "execution_count": 16,
   "metadata": {
    "collapsed": false
   },
   "outputs": [
    {
     "data": {
      "text/plain": [
       "{'B': 83.127605197057377, 'G': 94.267999972782135, 'R': 100.86576035056612}"
      ]
     },
     "execution_count": 16,
     "metadata": {},
     "output_type": "execute_result"
    }
   ],
   "source": [
    "rgbmean"
   ]
  },
  {
   "cell_type": "code",
   "execution_count": 12,
   "metadata": {
    "collapsed": false
   },
   "outputs": [],
   "source": [
    "x, y = np.array([t[\"imgs\"] for t in data]), [t[\"label\"] for t in data]\n",
    "x = pad_sequences(x, maxlen=20, truncating=\"post\")\n",
    "\n",
    "lb = LabelBinarizer()\n",
    "y = lb.fit_transform(y)"
   ]
  },
  {
   "cell_type": "code",
   "execution_count": 19,
   "metadata": {
    "collapsed": true
   },
   "outputs": [],
   "source": [
    "def export_rgbmean_data(x, y, output_path, buffer_size):\n",
    "    dataset = HDF5DatasetWriter(x.shape, y.shape, output_path, bufSize = buffer_size)\n",
    "    \n",
    "    widgets = [\"Exporting Data: \", progressbar.Percentage(), \" \", progressbar.Bar(), \" \", progressbar.ETA()]\n",
    "    pbar = progressbar.ProgressBar(maxval=x.shape[0], widgets=widgets).start()\n",
    "    \n",
    "    sequences = []\n",
    "    for i, sequence in enumerate(x):\n",
    "        images = []\n",
    "        for i, image in enumerate(sequence):\n",
    "            (B, G, R) = cv2.split(image.astype(\"float32\"))\n",
    "            R -= rgbmean[\"R\"]\n",
    "            G -= rgbmean[\"G\"]\n",
    "            B -= rgbmean[\"B\"]\n",
    "            image = cv2.merge([B, G, R])\n",
    "            image = img_to_array(image)\n",
    "            image = imagenet_utils.preprocess_input(image)\n",
    "            images.append(image)\n",
    "        sequences.append(images)\n",
    "        pbar.update(i)\n",
    "    dataset.add(sequences, y)\n",
    "    dataset.close()\n",
    "    pbar.finish()"
   ]
  },
  {
   "cell_type": "code",
   "execution_count": 21,
   "metadata": {
    "collapsed": false
   },
   "outputs": [
    {
     "name": "stderr",
     "output_type": "stream",
     "text": [
      "Exporting Data: 100% |##########################################| Time: 0:00:00\n"
     ]
    }
   ],
   "source": [
    "export_rgbmean_data(x, y, output_path, 1000)"
   ]
  },
  {
   "cell_type": "code",
   "execution_count": null,
   "metadata": {
    "collapsed": true
   },
   "outputs": [],
   "source": []
  }
 ],
 "metadata": {
  "anaconda-cloud": {},
  "kernelspec": {
   "display_name": "Python [default]",
   "language": "python",
   "name": "python3"
  },
  "language_info": {
   "codemirror_mode": {
    "name": "ipython",
    "version": 3
   },
   "file_extension": ".py",
   "mimetype": "text/x-python",
   "name": "python",
   "nbconvert_exporter": "python",
   "pygments_lexer": "ipython3",
   "version": "3.5.2"
  }
 },
 "nbformat": 4,
 "nbformat_minor": 1
}
